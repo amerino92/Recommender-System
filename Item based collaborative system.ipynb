{
 "cells": [
  {
   "cell_type": "code",
   "execution_count": 2,
   "metadata": {},
   "outputs": [],
   "source": [
    "import pandas as pd\n",
    "import numpy as np\n",
    "from scipy.sparse import csr_matrix\n",
    "import warnings\n",
    "warnings.filterwarnings('ignore')\n",
    "\n",
    "# display results to 3 decimal points, not in scientific notation\n",
    "pd.set_option('display.float_format', lambda x: '%.3f' % x)"
   ]
  },
  {
   "cell_type": "code",
   "execution_count": 5,
   "metadata": {},
   "outputs": [],
   "source": [
    "raw_user_data = pd.read_table(\n",
    "    'C:/Users/alex_/Desktop/Recommender System/lastfm-dataset-360K/lastfm-dataset-360K/usersha1-artmbid-artname-plays.tsv',\n",
    "                          header = None, nrows = 2e7,\n",
    "                          names = ['users', 'musicbrainz-artist-id', 'artist-name', 'plays'],\n",
    "                          usecols = ['users', 'artist-name', 'plays'])\n",
    "raw_user_profiles = pd.read_table(\n",
    "    'C:/Users/alex_/Desktop/Recommender System/lastfm-dataset-360K/lastfm-dataset-360K/usersha1-profile.tsv',\n",
    "                          header = None,\n",
    "                          names = ['users', 'gender', 'age', 'country', 'signup'],\n",
    "                          usecols = ['users', 'country'])"
   ]
  },
  {
   "cell_type": "code",
   "execution_count": 10,
   "metadata": {},
   "outputs": [
    {
     "name": "stdout",
     "output_type": "stream",
     "text": [
      "(17535655, 3)\n"
     ]
    },
    {
     "data": {
      "text/html": [
       "<div>\n",
       "<style scoped>\n",
       "    .dataframe tbody tr th:only-of-type {\n",
       "        vertical-align: middle;\n",
       "    }\n",
       "\n",
       "    .dataframe tbody tr th {\n",
       "        vertical-align: top;\n",
       "    }\n",
       "\n",
       "    .dataframe thead th {\n",
       "        text-align: right;\n",
       "    }\n",
       "</style>\n",
       "<table border=\"1\" class=\"dataframe\">\n",
       "  <thead>\n",
       "    <tr style=\"text-align: right;\">\n",
       "      <th></th>\n",
       "      <th>users</th>\n",
       "      <th>artist-name</th>\n",
       "      <th>plays</th>\n",
       "    </tr>\n",
       "  </thead>\n",
       "  <tbody>\n",
       "    <tr>\n",
       "      <th>0</th>\n",
       "      <td>00000c289a1829a808ac09c00daf10bc3c4e223b</td>\n",
       "      <td>betty blowtorch</td>\n",
       "      <td>2137</td>\n",
       "    </tr>\n",
       "    <tr>\n",
       "      <th>1</th>\n",
       "      <td>00000c289a1829a808ac09c00daf10bc3c4e223b</td>\n",
       "      <td>die Ärzte</td>\n",
       "      <td>1099</td>\n",
       "    </tr>\n",
       "    <tr>\n",
       "      <th>2</th>\n",
       "      <td>00000c289a1829a808ac09c00daf10bc3c4e223b</td>\n",
       "      <td>melissa etheridge</td>\n",
       "      <td>897</td>\n",
       "    </tr>\n",
       "    <tr>\n",
       "      <th>3</th>\n",
       "      <td>00000c289a1829a808ac09c00daf10bc3c4e223b</td>\n",
       "      <td>elvenking</td>\n",
       "      <td>717</td>\n",
       "    </tr>\n",
       "    <tr>\n",
       "      <th>4</th>\n",
       "      <td>00000c289a1829a808ac09c00daf10bc3c4e223b</td>\n",
       "      <td>juliette &amp; the licks</td>\n",
       "      <td>706</td>\n",
       "    </tr>\n",
       "  </tbody>\n",
       "</table>\n",
       "</div>"
      ],
      "text/plain": [
       "                                      users           artist-name  plays\n",
       "0  00000c289a1829a808ac09c00daf10bc3c4e223b       betty blowtorch   2137\n",
       "1  00000c289a1829a808ac09c00daf10bc3c4e223b             die Ärzte   1099\n",
       "2  00000c289a1829a808ac09c00daf10bc3c4e223b     melissa etheridge    897\n",
       "3  00000c289a1829a808ac09c00daf10bc3c4e223b             elvenking    717\n",
       "4  00000c289a1829a808ac09c00daf10bc3c4e223b  juliette & the licks    706"
      ]
     },
     "execution_count": 10,
     "metadata": {},
     "output_type": "execute_result"
    }
   ],
   "source": [
    "print(raw_user_data.shape)\n",
    "raw_user_data.head()"
   ]
  },
  {
   "cell_type": "code",
   "execution_count": 190,
   "metadata": {},
   "outputs": [
    {
     "name": "stdout",
     "output_type": "stream",
     "text": [
      "(359347, 2)\n"
     ]
    },
    {
     "data": {
      "text/html": [
       "<div>\n",
       "<style scoped>\n",
       "    .dataframe tbody tr th:only-of-type {\n",
       "        vertical-align: middle;\n",
       "    }\n",
       "\n",
       "    .dataframe tbody tr th {\n",
       "        vertical-align: top;\n",
       "    }\n",
       "\n",
       "    .dataframe thead th {\n",
       "        text-align: right;\n",
       "    }\n",
       "</style>\n",
       "<table border=\"1\" class=\"dataframe\">\n",
       "  <thead>\n",
       "    <tr style=\"text-align: right;\">\n",
       "      <th></th>\n",
       "      <th>users</th>\n",
       "      <th>country</th>\n",
       "    </tr>\n",
       "  </thead>\n",
       "  <tbody>\n",
       "    <tr>\n",
       "      <th>0</th>\n",
       "      <td>00000c289a1829a808ac09c00daf10bc3c4e223b</td>\n",
       "      <td>Germany</td>\n",
       "    </tr>\n",
       "    <tr>\n",
       "      <th>1</th>\n",
       "      <td>00001411dc427966b17297bf4d69e7e193135d89</td>\n",
       "      <td>Canada</td>\n",
       "    </tr>\n",
       "    <tr>\n",
       "      <th>2</th>\n",
       "      <td>00004d2ac9316e22dc007ab2243d6fcb239e707d</td>\n",
       "      <td>Germany</td>\n",
       "    </tr>\n",
       "    <tr>\n",
       "      <th>3</th>\n",
       "      <td>000063d3fe1cf2ba248b9e3c3f0334845a27a6bf</td>\n",
       "      <td>Mexico</td>\n",
       "    </tr>\n",
       "    <tr>\n",
       "      <th>4</th>\n",
       "      <td>00007a47085b9aab8af55f52ec8846ac479ac4fe</td>\n",
       "      <td>United States</td>\n",
       "    </tr>\n",
       "  </tbody>\n",
       "</table>\n",
       "</div>"
      ],
      "text/plain": [
       "                                      users        country\n",
       "0  00000c289a1829a808ac09c00daf10bc3c4e223b        Germany\n",
       "1  00001411dc427966b17297bf4d69e7e193135d89         Canada\n",
       "2  00004d2ac9316e22dc007ab2243d6fcb239e707d        Germany\n",
       "3  000063d3fe1cf2ba248b9e3c3f0334845a27a6bf         Mexico\n",
       "4  00007a47085b9aab8af55f52ec8846ac479ac4fe  United States"
      ]
     },
     "execution_count": 190,
     "metadata": {},
     "output_type": "execute_result"
    }
   ],
   "source": [
    "print(raw_user_profiles.shape)\n",
    "raw_user_profiles.head()"
   ]
  },
  {
   "cell_type": "markdown",
   "metadata": {},
   "source": [
    "## Exploratory data analysis\n"
   ]
  },
  {
   "cell_type": "code",
   "execution_count": 6,
   "metadata": {},
   "outputs": [
    {
     "data": {
      "text/plain": [
       "204"
      ]
     },
     "execution_count": 6,
     "metadata": {},
     "output_type": "execute_result"
    }
   ],
   "source": [
    "raw_user_data['artist-name'].isnull().sum()"
   ]
  },
  {
   "cell_type": "code",
   "execution_count": 7,
   "metadata": {},
   "outputs": [],
   "source": [
    "if raw_user_data['artist-name'].isnull().sum() > 0:\n",
    "    user_data = raw_user_data.dropna(axis = 0, subset = ['artist-name'])"
   ]
  },
  {
   "cell_type": "code",
   "execution_count": 7,
   "metadata": {},
   "outputs": [
    {
     "data": {
      "text/plain": [
       "(17535451, 3)"
      ]
     },
     "execution_count": 7,
     "metadata": {},
     "output_type": "execute_result"
    }
   ],
   "source": [
    "user_data.shape  #17535655-204"
   ]
  },
  {
   "cell_type": "code",
   "execution_count": 8,
   "metadata": {},
   "outputs": [],
   "source": [
    "artist_plays = (user_data.groupby(by = ['artist-name'])['plays'].sum().\n",
    "     reset_index().                                               #give indexes to the dataframe\n",
    "     rename(columns = {'plays': 'total_artist_plays'})\n",
    "    )\n",
    "#artist_plays"
   ]
  },
  {
   "cell_type": "code",
   "execution_count": 27,
   "metadata": {},
   "outputs": [
    {
     "data": {
      "text/html": [
       "<div>\n",
       "<style scoped>\n",
       "    .dataframe tbody tr th:only-of-type {\n",
       "        vertical-align: middle;\n",
       "    }\n",
       "\n",
       "    .dataframe tbody tr th {\n",
       "        vertical-align: top;\n",
       "    }\n",
       "\n",
       "    .dataframe thead th {\n",
       "        text-align: right;\n",
       "    }\n",
       "</style>\n",
       "<table border=\"1\" class=\"dataframe\">\n",
       "  <thead>\n",
       "    <tr style=\"text-align: right;\">\n",
       "      <th></th>\n",
       "      <th>artist-name</th>\n",
       "      <th>total_artist_plays</th>\n",
       "    </tr>\n",
       "  </thead>\n",
       "  <tbody>\n",
       "    <tr>\n",
       "      <th>0</th>\n",
       "      <td>04)]</td>\n",
       "      <td>6</td>\n",
       "    </tr>\n",
       "    <tr>\n",
       "      <th>1</th>\n",
       "      <td>2</td>\n",
       "      <td>1606</td>\n",
       "    </tr>\n",
       "    <tr>\n",
       "      <th>2</th>\n",
       "      <td>58725ab=&gt;</td>\n",
       "      <td>23</td>\n",
       "    </tr>\n",
       "    <tr>\n",
       "      <th>3</th>\n",
       "      <td>80lİ yillarin tÜrkÇe sÖzlÜ aŞk Şarkilari</td>\n",
       "      <td>70</td>\n",
       "    </tr>\n",
       "    <tr>\n",
       "      <th>4</th>\n",
       "      <td>amy winehouse</td>\n",
       "      <td>23</td>\n",
       "    </tr>\n",
       "  </tbody>\n",
       "</table>\n",
       "</div>"
      ],
      "text/plain": [
       "                                 artist-name  total_artist_plays\n",
       "0                                       04)]                   6\n",
       "1                                         2                 1606\n",
       "2                                  58725ab=>                  23\n",
       "3   80lİ yillarin tÜrkÇe sÖzlÜ aŞk Şarkilari                  70\n",
       "4                              amy winehouse                  23"
      ]
     },
     "execution_count": 27,
     "metadata": {},
     "output_type": "execute_result"
    }
   ],
   "source": [
    "artist_plays.head()"
   ]
  },
  {
   "cell_type": "code",
   "execution_count": 9,
   "metadata": {},
   "outputs": [
    {
     "data": {
      "text/html": [
       "<div>\n",
       "<style scoped>\n",
       "    .dataframe tbody tr th:only-of-type {\n",
       "        vertical-align: middle;\n",
       "    }\n",
       "\n",
       "    .dataframe tbody tr th {\n",
       "        vertical-align: top;\n",
       "    }\n",
       "\n",
       "    .dataframe thead th {\n",
       "        text-align: right;\n",
       "    }\n",
       "</style>\n",
       "<table border=\"1\" class=\"dataframe\">\n",
       "  <thead>\n",
       "    <tr style=\"text-align: right;\">\n",
       "      <th></th>\n",
       "      <th>users</th>\n",
       "      <th>artist-name</th>\n",
       "      <th>plays</th>\n",
       "      <th>total_artist_plays</th>\n",
       "    </tr>\n",
       "  </thead>\n",
       "  <tbody>\n",
       "    <tr>\n",
       "      <th>0</th>\n",
       "      <td>00000c289a1829a808ac09c00daf10bc3c4e223b</td>\n",
       "      <td>betty blowtorch</td>\n",
       "      <td>2137</td>\n",
       "      <td>25651</td>\n",
       "    </tr>\n",
       "    <tr>\n",
       "      <th>1</th>\n",
       "      <td>00000c289a1829a808ac09c00daf10bc3c4e223b</td>\n",
       "      <td>die Ärzte</td>\n",
       "      <td>1099</td>\n",
       "      <td>3704875</td>\n",
       "    </tr>\n",
       "    <tr>\n",
       "      <th>2</th>\n",
       "      <td>00000c289a1829a808ac09c00daf10bc3c4e223b</td>\n",
       "      <td>melissa etheridge</td>\n",
       "      <td>897</td>\n",
       "      <td>180391</td>\n",
       "    </tr>\n",
       "    <tr>\n",
       "      <th>3</th>\n",
       "      <td>00000c289a1829a808ac09c00daf10bc3c4e223b</td>\n",
       "      <td>elvenking</td>\n",
       "      <td>717</td>\n",
       "      <td>410725</td>\n",
       "    </tr>\n",
       "    <tr>\n",
       "      <th>4</th>\n",
       "      <td>00000c289a1829a808ac09c00daf10bc3c4e223b</td>\n",
       "      <td>juliette &amp; the licks</td>\n",
       "      <td>706</td>\n",
       "      <td>90498</td>\n",
       "    </tr>\n",
       "  </tbody>\n",
       "</table>\n",
       "</div>"
      ],
      "text/plain": [
       "                                      users           artist-name  plays  \\\n",
       "0  00000c289a1829a808ac09c00daf10bc3c4e223b       betty blowtorch   2137   \n",
       "1  00000c289a1829a808ac09c00daf10bc3c4e223b             die Ärzte   1099   \n",
       "2  00000c289a1829a808ac09c00daf10bc3c4e223b     melissa etheridge    897   \n",
       "3  00000c289a1829a808ac09c00daf10bc3c4e223b             elvenking    717   \n",
       "4  00000c289a1829a808ac09c00daf10bc3c4e223b  juliette & the licks    706   \n",
       "\n",
       "   total_artist_plays  \n",
       "0               25651  \n",
       "1             3704875  \n",
       "2              180391  \n",
       "3              410725  \n",
       "4               90498  "
      ]
     },
     "execution_count": 9,
     "metadata": {},
     "output_type": "execute_result"
    }
   ],
   "source": [
    "user_data_with_artist_plays = user_data.merge(artist_plays, left_on = 'artist-name', right_on = 'artist-name', how = 'left')\n",
    "\n",
    "user_data_with_artist_plays.head()"
   ]
  },
  {
   "cell_type": "markdown",
   "metadata": {},
   "source": [
    "### Picking a threshold for popular artists\n"
   ]
  },
  {
   "cell_type": "code",
   "execution_count": 20,
   "metadata": {},
   "outputs": [],
   "source": [
    "import matplotlib.pyplot as plt  \n",
    "import seaborn as sns  \n",
    "%matplotlib inline\n"
   ]
  },
  {
   "cell_type": "code",
   "execution_count": 21,
   "metadata": {},
   "outputs": [
    {
     "data": {
      "text/plain": [
       "<matplotlib.axes._subplots.AxesSubplot at 0x1be03d1e978>"
      ]
     },
     "execution_count": 21,
     "metadata": {},
     "output_type": "execute_result"
    },
    {
     "data": {
      "image/png": "[encoded data removed]",
      "text/plain": [
       "<Figure size 432x288 with 1 Axes>"
      ]
     },
     "metadata": {
      "needs_background": "light"
     },
     "output_type": "display_data"
    }
   ],
   "source": [
    "user_data_with_artist_plays['total_artist_plays'].hist(bins=50) "
   ]
  },
  {
   "cell_type": "code",
   "execution_count": 30,
   "metadata": {},
   "outputs": [
    {
     "data": {
      "text/plain": [
       "count     292363.000\n",
       "mean       12907.022\n",
       "std       185981.631\n",
       "min            1.000\n",
       "25%           53.000\n",
       "50%          208.000\n",
       "75%         1048.000\n",
       "max     30466827.000\n",
       "Name: total_artist_plays, dtype: float64"
      ]
     },
     "execution_count": 30,
     "metadata": {},
     "output_type": "execute_result"
    }
   ],
   "source": [
    "artist_plays['total_artist_plays'].describe()"
   ]
  },
  {
   "cell_type": "code",
   "execution_count": 31,
   "metadata": {},
   "outputs": [
    {
     "data": {
      "text/plain": [
       "0.900     6137.800\n",
       "0.910     7409.420\n",
       "0.920     9102.040\n",
       "0.930    11474.660\n",
       "0.940    14898.000\n",
       "0.950    19964.500\n",
       "0.960    28420.120\n",
       "0.970    43541.420\n",
       "0.980    79403.560\n",
       "0.990   198483.660\n",
       "Name: total_artist_plays, dtype: float64"
      ]
     },
     "execution_count": 31,
     "metadata": {},
     "output_type": "execute_result"
    }
   ],
   "source": [
    "artist_plays['total_artist_plays'].quantile(np.arange(.9, 1, .01))"
   ]
  },
  {
   "cell_type": "code",
   "execution_count": 23,
   "metadata": {},
   "outputs": [
    {
     "name": "stdout",
     "output_type": "stream",
     "text": [
      "(14159003, 4)\n"
     ]
    },
    {
     "data": {
      "text/html": [
       "<div>\n",
       "<style scoped>\n",
       "    .dataframe tbody tr th:only-of-type {\n",
       "        vertical-align: middle;\n",
       "    }\n",
       "\n",
       "    .dataframe tbody tr th {\n",
       "        vertical-align: top;\n",
       "    }\n",
       "\n",
       "    .dataframe thead th {\n",
       "        text-align: right;\n",
       "    }\n",
       "</style>\n",
       "<table border=\"1\" class=\"dataframe\">\n",
       "  <thead>\n",
       "    <tr style=\"text-align: right;\">\n",
       "      <th></th>\n",
       "      <th>users</th>\n",
       "      <th>artist-name</th>\n",
       "      <th>plays</th>\n",
       "      <th>total_artist_plays</th>\n",
       "    </tr>\n",
       "  </thead>\n",
       "  <tbody>\n",
       "    <tr>\n",
       "      <th>1</th>\n",
       "      <td>00000c289a1829a808ac09c00daf10bc3c4e223b</td>\n",
       "      <td>die Ärzte</td>\n",
       "      <td>1099</td>\n",
       "      <td>3704875</td>\n",
       "    </tr>\n",
       "    <tr>\n",
       "      <th>2</th>\n",
       "      <td>00000c289a1829a808ac09c00daf10bc3c4e223b</td>\n",
       "      <td>melissa etheridge</td>\n",
       "      <td>897</td>\n",
       "      <td>180391</td>\n",
       "    </tr>\n",
       "    <tr>\n",
       "      <th>3</th>\n",
       "      <td>00000c289a1829a808ac09c00daf10bc3c4e223b</td>\n",
       "      <td>elvenking</td>\n",
       "      <td>717</td>\n",
       "      <td>410725</td>\n",
       "    </tr>\n",
       "    <tr>\n",
       "      <th>4</th>\n",
       "      <td>00000c289a1829a808ac09c00daf10bc3c4e223b</td>\n",
       "      <td>juliette &amp; the licks</td>\n",
       "      <td>706</td>\n",
       "      <td>90498</td>\n",
       "    </tr>\n",
       "    <tr>\n",
       "      <th>5</th>\n",
       "      <td>00000c289a1829a808ac09c00daf10bc3c4e223b</td>\n",
       "      <td>red hot chili peppers</td>\n",
       "      <td>691</td>\n",
       "      <td>13547741</td>\n",
       "    </tr>\n",
       "  </tbody>\n",
       "</table>\n",
       "</div>"
      ],
      "text/plain": [
       "                                      users            artist-name  plays  \\\n",
       "1  00000c289a1829a808ac09c00daf10bc3c4e223b              die Ärzte   1099   \n",
       "2  00000c289a1829a808ac09c00daf10bc3c4e223b      melissa etheridge    897   \n",
       "3  00000c289a1829a808ac09c00daf10bc3c4e223b              elvenking    717   \n",
       "4  00000c289a1829a808ac09c00daf10bc3c4e223b   juliette & the licks    706   \n",
       "5  00000c289a1829a808ac09c00daf10bc3c4e223b  red hot chili peppers    691   \n",
       "\n",
       "   total_artist_plays  \n",
       "1             3704875  \n",
       "2              180391  \n",
       "3              410725  \n",
       "4               90498  \n",
       "5            13547741  "
      ]
     },
     "execution_count": 23,
     "metadata": {},
     "output_type": "execute_result"
    }
   ],
   "source": [
    "popularity_threshold = 40000\n",
    "user_data_popular_artists = user_data_with_artist_plays.query('total_artist_plays >= @popularity_threshold')\n",
    "print(user_data_popular_artists.shape)\n",
    "user_data_popular_artists.head()"
   ]
  },
  {
   "cell_type": "code",
   "execution_count": 24,
   "metadata": {},
   "outputs": [
    {
     "data": {
      "text/plain": [
       "<matplotlib.axes._subplots.AxesSubplot at 0x1be03e50eb8>"
      ]
     },
     "execution_count": 24,
     "metadata": {},
     "output_type": "execute_result"
    },
    {
     "data": {
      "image/png": "[encoded data removed]",
      "text/plain": [
       "<Figure size 432x288 with 1 Axes>"
      ]
     },
     "metadata": {
      "needs_background": "light"
     },
     "output_type": "display_data"
    }
   ],
   "source": [
    "user_data_popular_artists['total_artist_plays'].hist(bins=50) "
   ]
  },
  {
   "cell_type": "code",
   "execution_count": 53,
   "metadata": {},
   "outputs": [],
   "source": [
    "combined = user_data_popular_artists.merge(user_profiles, left_on = 'users', right_on = 'users', how = 'left')\n"
   ]
  },
  {
   "cell_type": "code",
   "execution_count": 58,
   "metadata": {},
   "outputs": [],
   "source": [
    "usa_data = combined.query('country == \\'United States\\' ')"
   ]
  },
  {
   "cell_type": "code",
   "execution_count": 59,
   "metadata": {},
   "outputs": [
    {
     "data": {
      "text/html": [
       "<div>\n",
       "<style scoped>\n",
       "    .dataframe tbody tr th:only-of-type {\n",
       "        vertical-align: middle;\n",
       "    }\n",
       "\n",
       "    .dataframe tbody tr th {\n",
       "        vertical-align: top;\n",
       "    }\n",
       "\n",
       "    .dataframe thead th {\n",
       "        text-align: right;\n",
       "    }\n",
       "</style>\n",
       "<table border=\"1\" class=\"dataframe\">\n",
       "  <thead>\n",
       "    <tr style=\"text-align: right;\">\n",
       "      <th></th>\n",
       "      <th>users</th>\n",
       "      <th>artist-name</th>\n",
       "      <th>plays</th>\n",
       "      <th>total_artist_plays</th>\n",
       "      <th>country</th>\n",
       "    </tr>\n",
       "  </thead>\n",
       "  <tbody>\n",
       "    <tr>\n",
       "      <th>156</th>\n",
       "      <td>00007a47085b9aab8af55f52ec8846ac479ac4fe</td>\n",
       "      <td>devendra banhart</td>\n",
       "      <td>456</td>\n",
       "      <td>2366807</td>\n",
       "      <td>United States</td>\n",
       "    </tr>\n",
       "    <tr>\n",
       "      <th>157</th>\n",
       "      <td>00007a47085b9aab8af55f52ec8846ac479ac4fe</td>\n",
       "      <td>boards of canada</td>\n",
       "      <td>407</td>\n",
       "      <td>6115545</td>\n",
       "      <td>United States</td>\n",
       "    </tr>\n",
       "    <tr>\n",
       "      <th>158</th>\n",
       "      <td>00007a47085b9aab8af55f52ec8846ac479ac4fe</td>\n",
       "      <td>cocorosie</td>\n",
       "      <td>386</td>\n",
       "      <td>2194862</td>\n",
       "      <td>United States</td>\n",
       "    </tr>\n",
       "    <tr>\n",
       "      <th>159</th>\n",
       "      <td>00007a47085b9aab8af55f52ec8846ac479ac4fe</td>\n",
       "      <td>aphex twin</td>\n",
       "      <td>213</td>\n",
       "      <td>4248296</td>\n",
       "      <td>United States</td>\n",
       "    </tr>\n",
       "    <tr>\n",
       "      <th>160</th>\n",
       "      <td>00007a47085b9aab8af55f52ec8846ac479ac4fe</td>\n",
       "      <td>animal collective</td>\n",
       "      <td>203</td>\n",
       "      <td>3495537</td>\n",
       "      <td>United States</td>\n",
       "    </tr>\n",
       "  </tbody>\n",
       "</table>\n",
       "</div>"
      ],
      "text/plain": [
       "                                        users        artist-name  plays  \\\n",
       "156  00007a47085b9aab8af55f52ec8846ac479ac4fe   devendra banhart    456   \n",
       "157  00007a47085b9aab8af55f52ec8846ac479ac4fe   boards of canada    407   \n",
       "158  00007a47085b9aab8af55f52ec8846ac479ac4fe          cocorosie    386   \n",
       "159  00007a47085b9aab8af55f52ec8846ac479ac4fe         aphex twin    213   \n",
       "160  00007a47085b9aab8af55f52ec8846ac479ac4fe  animal collective    203   \n",
       "\n",
       "     total_artist_plays        country  \n",
       "156             2366807  United States  \n",
       "157             6115545  United States  \n",
       "158             2194862  United States  \n",
       "159             4248296  United States  \n",
       "160             3495537  United States  "
      ]
     },
     "execution_count": 59,
     "metadata": {},
     "output_type": "execute_result"
    }
   ],
   "source": [
    "usa_data.head()"
   ]
  },
  {
   "cell_type": "code",
   "execution_count": 61,
   "metadata": {},
   "outputs": [
    {
     "name": "stdout",
     "output_type": "stream",
     "text": [
      "Initial dataframe shape (2788019, 5)\n",
      "New dataframe shape (2788013, 5)\n",
      "Removed 6 rows\n"
     ]
    }
   ],
   "source": [
    "if not usa_data[usa_data.duplicated(['users', 'artist-name'])].empty:\n",
    "    initial_rows = usa_data.shape[0]\n",
    "    \n",
    "    print ('Initial dataframe shape {0}'.format(usa_data.shape))\n",
    "    usa_data = usa_data.drop_duplicates(['users', 'artist-name'])\n",
    "    current_rows = usa_data.shape[0]\n",
    "    print ('New dataframe shape {0}'.format(usa_data.shape))\n",
    "    print ('Removed {0} rows'.format(initial_rows - current_rows))"
   ]
  },
  {
   "cell_type": "markdown",
   "metadata": {},
   "source": [
    "### Implemeting the Nearest Neighbor Model\n"
   ]
  },
  {
   "cell_type": "code",
   "execution_count": 62,
   "metadata": {},
   "outputs": [],
   "source": [
    "wide_artist_data = usa_data.pivot(index = 'artist-name', columns = 'users', values = 'plays').fillna(0)\n",
    "wide_artist_data_sparse = csr_matrix(wide_artist_data.values)"
   ]
  },
  {
   "cell_type": "code",
   "execution_count": 65,
   "metadata": {},
   "outputs": [
    {
     "data": {
      "text/html": [
       "<div>\n",
       "<style scoped>\n",
       "    .dataframe tbody tr th:only-of-type {\n",
       "        vertical-align: middle;\n",
       "    }\n",
       "\n",
       "    .dataframe tbody tr th {\n",
       "        vertical-align: top;\n",
       "    }\n",
       "\n",
       "    .dataframe thead th {\n",
       "        text-align: right;\n",
       "    }\n",
       "</style>\n",
       "<table border=\"1\" class=\"dataframe\">\n",
       "  <thead>\n",
       "    <tr style=\"text-align: right;\">\n",
       "      <th>users</th>\n",
       "      <th>00007a47085b9aab8af55f52ec8846ac479ac4fe</th>\n",
       "      <th>0001a57568309b287363e72dc682e9a170ba6dc2</th>\n",
       "      <th>00024b5b85c40f990c28644d53257819980bf6bb</th>\n",
       "      <th>0002dd2154072434d26e5409faa591bfb260a01e</th>\n",
       "      <th>00032c7933e0eb05f2258f1147ef81a90f2d4d6c</th>\n",
       "      <th>00041cbfdd019b5431f926133266cc4ba38219bb</th>\n",
       "      <th>000429493d9716b66b02180d208d09b5b89fbe64</th>\n",
       "      <th>000701c3c006b091990162635b36b008c504c6a7</th>\n",
       "      <th>000752c87a61bc4247f5219b4769c347c0062c8a</th>\n",
       "      <th>0008538a0f505f72fdd66af3c4c71aef8d3bdea4</th>\n",
       "      <th>...</th>\n",
       "      <th>fff58a5c95280b7af63f9c552f9159b58ae5efa3</th>\n",
       "      <th>fff694cf332ed701dccbf17f1d9595ba8ad69f22</th>\n",
       "      <th>fff69e7cb53568c732909648527a778c31befec8</th>\n",
       "      <th>fff820efe22db6c868515436de82af39e013b910</th>\n",
       "      <th>fff89b6b5332f0f38996f11c88f908a3924926fe</th>\n",
       "      <th>fff9dc65e7f2763a7e8bce8d99cc1491c2ae4c6f</th>\n",
       "      <th>fffa9294e858a7c863b5ad363c748c2330d9bd45</th>\n",
       "      <th>fffa9d62caff0f038c7a35db70f109b1bba04a1d</th>\n",
       "      <th>fffaf6f9a1a3ad8bd0dff7b48b2eb9eef030fdee</th>\n",
       "      <th>fffe8c7f952d9b960a56ed4dcb40a415d924b224</th>\n",
       "    </tr>\n",
       "    <tr>\n",
       "      <th>artist-name</th>\n",
       "      <th></th>\n",
       "      <th></th>\n",
       "      <th></th>\n",
       "      <th></th>\n",
       "      <th></th>\n",
       "      <th></th>\n",
       "      <th></th>\n",
       "      <th></th>\n",
       "      <th></th>\n",
       "      <th></th>\n",
       "      <th></th>\n",
       "      <th></th>\n",
       "      <th></th>\n",
       "      <th></th>\n",
       "      <th></th>\n",
       "      <th></th>\n",
       "      <th></th>\n",
       "      <th></th>\n",
       "      <th></th>\n",
       "      <th></th>\n",
       "      <th></th>\n",
       "    </tr>\n",
       "  </thead>\n",
       "  <tbody>\n",
       "    <tr>\n",
       "      <th>!!!</th>\n",
       "      <td>0.000</td>\n",
       "      <td>0.000</td>\n",
       "      <td>0.000</td>\n",
       "      <td>0.000</td>\n",
       "      <td>0.000</td>\n",
       "      <td>0.000</td>\n",
       "      <td>0.000</td>\n",
       "      <td>0.000</td>\n",
       "      <td>0.000</td>\n",
       "      <td>0.000</td>\n",
       "      <td>...</td>\n",
       "      <td>0.000</td>\n",
       "      <td>0.000</td>\n",
       "      <td>0.000</td>\n",
       "      <td>0.000</td>\n",
       "      <td>0.000</td>\n",
       "      <td>0.000</td>\n",
       "      <td>0.000</td>\n",
       "      <td>0.000</td>\n",
       "      <td>0.000</td>\n",
       "      <td>0.000</td>\n",
       "    </tr>\n",
       "    <tr>\n",
       "      <th>#####</th>\n",
       "      <td>0.000</td>\n",
       "      <td>0.000</td>\n",
       "      <td>0.000</td>\n",
       "      <td>0.000</td>\n",
       "      <td>0.000</td>\n",
       "      <td>0.000</td>\n",
       "      <td>0.000</td>\n",
       "      <td>0.000</td>\n",
       "      <td>0.000</td>\n",
       "      <td>0.000</td>\n",
       "      <td>...</td>\n",
       "      <td>0.000</td>\n",
       "      <td>0.000</td>\n",
       "      <td>0.000</td>\n",
       "      <td>0.000</td>\n",
       "      <td>0.000</td>\n",
       "      <td>0.000</td>\n",
       "      <td>0.000</td>\n",
       "      <td>0.000</td>\n",
       "      <td>0.000</td>\n",
       "      <td>0.000</td>\n",
       "    </tr>\n",
       "    <tr>\n",
       "      <th>(+44)</th>\n",
       "      <td>0.000</td>\n",
       "      <td>0.000</td>\n",
       "      <td>0.000</td>\n",
       "      <td>0.000</td>\n",
       "      <td>0.000</td>\n",
       "      <td>0.000</td>\n",
       "      <td>0.000</td>\n",
       "      <td>0.000</td>\n",
       "      <td>0.000</td>\n",
       "      <td>0.000</td>\n",
       "      <td>...</td>\n",
       "      <td>0.000</td>\n",
       "      <td>0.000</td>\n",
       "      <td>0.000</td>\n",
       "      <td>0.000</td>\n",
       "      <td>0.000</td>\n",
       "      <td>0.000</td>\n",
       "      <td>0.000</td>\n",
       "      <td>0.000</td>\n",
       "      <td>0.000</td>\n",
       "      <td>0.000</td>\n",
       "    </tr>\n",
       "    <tr>\n",
       "      <th>(hed) planet earth</th>\n",
       "      <td>0.000</td>\n",
       "      <td>0.000</td>\n",
       "      <td>0.000</td>\n",
       "      <td>0.000</td>\n",
       "      <td>0.000</td>\n",
       "      <td>0.000</td>\n",
       "      <td>0.000</td>\n",
       "      <td>0.000</td>\n",
       "      <td>0.000</td>\n",
       "      <td>0.000</td>\n",
       "      <td>...</td>\n",
       "      <td>0.000</td>\n",
       "      <td>0.000</td>\n",
       "      <td>0.000</td>\n",
       "      <td>0.000</td>\n",
       "      <td>0.000</td>\n",
       "      <td>0.000</td>\n",
       "      <td>0.000</td>\n",
       "      <td>0.000</td>\n",
       "      <td>0.000</td>\n",
       "      <td>0.000</td>\n",
       "    </tr>\n",
       "    <tr>\n",
       "      <th>*nsync</th>\n",
       "      <td>0.000</td>\n",
       "      <td>0.000</td>\n",
       "      <td>0.000</td>\n",
       "      <td>0.000</td>\n",
       "      <td>0.000</td>\n",
       "      <td>0.000</td>\n",
       "      <td>0.000</td>\n",
       "      <td>0.000</td>\n",
       "      <td>0.000</td>\n",
       "      <td>0.000</td>\n",
       "      <td>...</td>\n",
       "      <td>0.000</td>\n",
       "      <td>0.000</td>\n",
       "      <td>0.000</td>\n",
       "      <td>0.000</td>\n",
       "      <td>0.000</td>\n",
       "      <td>0.000</td>\n",
       "      <td>0.000</td>\n",
       "      <td>0.000</td>\n",
       "      <td>0.000</td>\n",
       "      <td>0.000</td>\n",
       "    </tr>\n",
       "  </tbody>\n",
       "</table>\n",
       "<p>5 rows × 66913 columns</p>\n",
       "</div>"
      ],
      "text/plain": [
       "users               00007a47085b9aab8af55f52ec8846ac479ac4fe  \\\n",
       "artist-name                                                    \n",
       "!!!                                                    0.000   \n",
       "#####                                                  0.000   \n",
       "(+44)                                                  0.000   \n",
       "(hed) planet earth                                     0.000   \n",
       "*nsync                                                 0.000   \n",
       "\n",
       "users               0001a57568309b287363e72dc682e9a170ba6dc2  \\\n",
       "artist-name                                                    \n",
       "!!!                                                    0.000   \n",
       "#####                                                  0.000   \n",
       "(+44)                                                  0.000   \n",
       "(hed) planet earth                                     0.000   \n",
       "*nsync                                                 0.000   \n",
       "\n",
       "users               00024b5b85c40f990c28644d53257819980bf6bb  \\\n",
       "artist-name                                                    \n",
       "!!!                                                    0.000   \n",
       "#####                                                  0.000   \n",
       "(+44)                                                  0.000   \n",
       "(hed) planet earth                                     0.000   \n",
       "*nsync                                                 0.000   \n",
       "\n",
       "users               0002dd2154072434d26e5409faa591bfb260a01e  \\\n",
       "artist-name                                                    \n",
       "!!!                                                    0.000   \n",
       "#####                                                  0.000   \n",
       "(+44)                                                  0.000   \n",
       "(hed) planet earth                                     0.000   \n",
       "*nsync                                                 0.000   \n",
       "\n",
       "users               00032c7933e0eb05f2258f1147ef81a90f2d4d6c  \\\n",
       "artist-name                                                    \n",
       "!!!                                                    0.000   \n",
       "#####                                                  0.000   \n",
       "(+44)                                                  0.000   \n",
       "(hed) planet earth                                     0.000   \n",
       "*nsync                                                 0.000   \n",
       "\n",
       "users               00041cbfdd019b5431f926133266cc4ba38219bb  \\\n",
       "artist-name                                                    \n",
       "!!!                                                    0.000   \n",
       "#####                                                  0.000   \n",
       "(+44)                                                  0.000   \n",
       "(hed) planet earth                                     0.000   \n",
       "*nsync                                                 0.000   \n",
       "\n",
       "users               000429493d9716b66b02180d208d09b5b89fbe64  \\\n",
       "artist-name                                                    \n",
       "!!!                                                    0.000   \n",
       "#####                                                  0.000   \n",
       "(+44)                                                  0.000   \n",
       "(hed) planet earth                                     0.000   \n",
       "*nsync                                                 0.000   \n",
       "\n",
       "users               000701c3c006b091990162635b36b008c504c6a7  \\\n",
       "artist-name                                                    \n",
       "!!!                                                    0.000   \n",
       "#####                                                  0.000   \n",
       "(+44)                                                  0.000   \n",
       "(hed) planet earth                                     0.000   \n",
       "*nsync                                                 0.000   \n",
       "\n",
       "users               000752c87a61bc4247f5219b4769c347c0062c8a  \\\n",
       "artist-name                                                    \n",
       "!!!                                                    0.000   \n",
       "#####                                                  0.000   \n",
       "(+44)                                                  0.000   \n",
       "(hed) planet earth                                     0.000   \n",
       "*nsync                                                 0.000   \n",
       "\n",
       "users               0008538a0f505f72fdd66af3c4c71aef8d3bdea4  ...  \\\n",
       "artist-name                                                   ...   \n",
       "!!!                                                    0.000  ...   \n",
       "#####                                                  0.000  ...   \n",
       "(+44)                                                  0.000  ...   \n",
       "(hed) planet earth                                     0.000  ...   \n",
       "*nsync                                                 0.000  ...   \n",
       "\n",
       "users               fff58a5c95280b7af63f9c552f9159b58ae5efa3  \\\n",
       "artist-name                                                    \n",
       "!!!                                                    0.000   \n",
       "#####                                                  0.000   \n",
       "(+44)                                                  0.000   \n",
       "(hed) planet earth                                     0.000   \n",
       "*nsync                                                 0.000   \n",
       "\n",
       "users               fff694cf332ed701dccbf17f1d9595ba8ad69f22  \\\n",
       "artist-name                                                    \n",
       "!!!                                                    0.000   \n",
       "#####                                                  0.000   \n",
       "(+44)                                                  0.000   \n",
       "(hed) planet earth                                     0.000   \n",
       "*nsync                                                 0.000   \n",
       "\n",
       "users               fff69e7cb53568c732909648527a778c31befec8  \\\n",
       "artist-name                                                    \n",
       "!!!                                                    0.000   \n",
       "#####                                                  0.000   \n",
       "(+44)                                                  0.000   \n",
       "(hed) planet earth                                     0.000   \n",
       "*nsync                                                 0.000   \n",
       "\n",
       "users               fff820efe22db6c868515436de82af39e013b910  \\\n",
       "artist-name                                                    \n",
       "!!!                                                    0.000   \n",
       "#####                                                  0.000   \n",
       "(+44)                                                  0.000   \n",
       "(hed) planet earth                                     0.000   \n",
       "*nsync                                                 0.000   \n",
       "\n",
       "users               fff89b6b5332f0f38996f11c88f908a3924926fe  \\\n",
       "artist-name                                                    \n",
       "!!!                                                    0.000   \n",
       "#####                                                  0.000   \n",
       "(+44)                                                  0.000   \n",
       "(hed) planet earth                                     0.000   \n",
       "*nsync                                                 0.000   \n",
       "\n",
       "users               fff9dc65e7f2763a7e8bce8d99cc1491c2ae4c6f  \\\n",
       "artist-name                                                    \n",
       "!!!                                                    0.000   \n",
       "#####                                                  0.000   \n",
       "(+44)                                                  0.000   \n",
       "(hed) planet earth                                     0.000   \n",
       "*nsync                                                 0.000   \n",
       "\n",
       "users               fffa9294e858a7c863b5ad363c748c2330d9bd45  \\\n",
       "artist-name                                                    \n",
       "!!!                                                    0.000   \n",
       "#####                                                  0.000   \n",
       "(+44)                                                  0.000   \n",
       "(hed) planet earth                                     0.000   \n",
       "*nsync                                                 0.000   \n",
       "\n",
       "users               fffa9d62caff0f038c7a35db70f109b1bba04a1d  \\\n",
       "artist-name                                                    \n",
       "!!!                                                    0.000   \n",
       "#####                                                  0.000   \n",
       "(+44)                                                  0.000   \n",
       "(hed) planet earth                                     0.000   \n",
       "*nsync                                                 0.000   \n",
       "\n",
       "users               fffaf6f9a1a3ad8bd0dff7b48b2eb9eef030fdee  \\\n",
       "artist-name                                                    \n",
       "!!!                                                    0.000   \n",
       "#####                                                  0.000   \n",
       "(+44)                                                  0.000   \n",
       "(hed) planet earth                                     0.000   \n",
       "*nsync                                                 0.000   \n",
       "\n",
       "users               fffe8c7f952d9b960a56ed4dcb40a415d924b224  \n",
       "artist-name                                                   \n",
       "!!!                                                    0.000  \n",
       "#####                                                  0.000  \n",
       "(+44)                                                  0.000  \n",
       "(hed) planet earth                                     0.000  \n",
       "*nsync                                                 0.000  \n",
       "\n",
       "[5 rows x 66913 columns]"
      ]
     },
     "execution_count": 65,
     "metadata": {},
     "output_type": "execute_result"
    }
   ],
   "source": [
    "wide_artist_data.head()"
   ]
  },
  {
   "cell_type": "code",
   "execution_count": 64,
   "metadata": {},
   "outputs": [
    {
     "data": {
      "text/plain": [
       "<9127x66913 sparse matrix of type '<class 'numpy.float64'>'\n",
       "\twith 2788013 stored elements in Compressed Sparse Row format>"
      ]
     },
     "execution_count": 64,
     "metadata": {},
     "output_type": "execute_result"
    }
   ],
   "source": [
    "wide_artist_data_sparse"
   ]
  },
  {
   "cell_type": "code",
   "execution_count": 66,
   "metadata": {},
   "outputs": [],
   "source": []
  },
  {
   "cell_type": "markdown",
   "metadata": {},
   "source": [
    "#### Fitting the model"
   ]
  },
  {
   "cell_type": "code",
   "execution_count": 67,
   "metadata": {},
   "outputs": [
    {
     "data": {
      "text/plain": [
       "NearestNeighbors(algorithm='brute', leaf_size=30, metric='cosine',\n",
       "         metric_params=None, n_jobs=None, n_neighbors=5, p=2, radius=1.0)"
      ]
     },
     "execution_count": 67,
     "metadata": {},
     "output_type": "execute_result"
    }
   ],
   "source": [
    "from sklearn.neighbors import NearestNeighbors\n",
    "\n",
    "model_knn = NearestNeighbors(metric = 'cosine', algorithm = 'brute')\n",
    "model_knn.fit(wide_artist_data_sparse)"
   ]
  },
  {
   "cell_type": "code",
   "execution_count": 169,
   "metadata": {},
   "outputs": [
    {
     "name": "stdout",
     "output_type": "stream",
     "text": [
      "6142\n",
      "Recommendations for red hot chili peppers:\n",
      "\n",
      "1: john frusciante, with distance of 0.6608648276527587:\n",
      "2: incubus, with distance of 0.7361444139503781:\n",
      "3: rage against the machine, with distance of 0.7803890133432729:\n",
      "4: audioslave, with distance of 0.7987096084643394:\n",
      "5: sublime, with distance of 0.8094301405164908:\n"
     ]
    }
   ],
   "source": [
    "query_index = np.random.choice(wide_artist_data.shape[0])\n",
    "print (query_index)\n",
    "query_index=6398  #1721-coldplay\n",
    "distances, indices = model_knn.kneighbors(wide_artist_data.iloc[query_index, :].to_numpy().reshape(1, -1), n_neighbors = 6)\n",
    "\n",
    "for i in range(0, len(distances.flatten())):\n",
    "    if i == 0:\n",
    "        print ('Recommendations for {0}:\\n'.format(wide_artist_data.index[query_index]))\n",
    "    else:\n",
    "        print ('{0}: {1}, with distance of {2}:'.format(i, \n",
    "                                                        wide_artist_data.index[indices[0][i]], \n",
    "                                                        distances[0][i]))"
   ]
  },
  {
   "cell_type": "code",
   "execution_count": null,
   "metadata": {},
   "outputs": [],
   "source": []
  },
  {
   "cell_type": "markdown",
   "metadata": {},
   "source": [
    "### Binary Play Count"
   ]
  },
  {
   "cell_type": "code",
   "execution_count": 172,
   "metadata": {},
   "outputs": [],
   "source": [
    "wide_artist_data_zero_one = wide_artist_data.apply(np.sign)\n",
    "#The sign function returns -1 if x < 0, 0 if x==0, 1 if x > 0. nan is returned for nan inputs.\n",
    "wide_artist_data_zero_one_sparse = csr_matrix(wide_artist_data_zero_one.values)\n"
   ]
  },
  {
   "cell_type": "code",
   "execution_count": 173,
   "metadata": {},
   "outputs": [
    {
     "data": {
      "text/plain": [
       "NearestNeighbors(algorithm='brute', leaf_size=30, metric='cosine',\n",
       "         metric_params=None, n_jobs=None, n_neighbors=5, p=2, radius=1.0)"
      ]
     },
     "execution_count": 173,
     "metadata": {},
     "output_type": "execute_result"
    }
   ],
   "source": [
    "model_nn_binary = NearestNeighbors(metric='cosine', algorithm='brute')\n",
    "model_nn_binary.fit(wide_artist_data_zero_one_sparse)"
   ]
  },
  {
   "cell_type": "code",
   "execution_count": 176,
   "metadata": {},
   "outputs": [
    {
     "name": "stdout",
     "output_type": "stream",
     "text": [
      "Recommendations with binary play data for red hot chili peppers:\n",
      "\n",
      "1: incubus, with distance of 0.6866329121659049:\n",
      "2: the beatles, with distance of 0.6938567428877458:\n",
      "3: sublime, with distance of 0.705400375259746:\n",
      "4: foo fighters, with distance of 0.7115568685895525:\n",
      "5: coldplay, with distance of 0.7166914223483436:\n"
     ]
    }
   ],
   "source": [
    "\n",
    "query_index = np.random.choice(wide_artist_data_zero_one.shape[0])\n",
    "query_index=6398\n",
    "#print query_index\n",
    "distances, indices = model_nn_binary.kneighbors(\n",
    "                        wide_artist_data_zero_one.iloc[query_index, :].to_numpy().reshape(1, -1), n_neighbors = 6)\n",
    "\n",
    "for i in range(0, len(distances.flatten())):\n",
    "    if i == 0:\n",
    "        print ('Recommendations with binary play data for {0}:\\n'.format(wide_artist_data_zero_one.index[query_index]))\n",
    "    else:\n",
    "        print ('{0}: {1}, with distance of {2}:'.format(i, \n",
    "                                                       wide_artist_data_zero_one.index[indices[0][i]], \n",
    "                                                       distances[0][i]))"
   ]
  },
  {
   "cell_type": "code",
   "execution_count": null,
   "metadata": {},
   "outputs": [],
   "source": []
  },
  {
   "cell_type": "code",
   "execution_count": 180,
   "metadata": {},
   "outputs": [],
   "source": [
    "from fuzzywuzzy import fuzz \n",
    "import string"
   ]
  },
  {
   "cell_type": "code",
   "execution_count": 184,
   "metadata": {},
   "outputs": [],
   "source": [
    "def print_artist_recommendations(query_artist, artist_plays_matrix, knn_model, k):\n",
    "    \"\"\"\n",
    "    Inputs:\n",
    "    query_artist: query artist name\n",
    "    artist_plays_matrix: artist play count dataframe (not the sparse one, the pandas dataframe)\n",
    "    knn_model: our previously fitted sklearn knn model\n",
    "    k: the number of nearest neighbors.\n",
    "    \n",
    "    Prints: Artist recommendations for the query artist\n",
    "    Returns: None\n",
    "    \"\"\"\n",
    "    query_index = None\n",
    "    ratio_tuples = []\n",
    "    \n",
    "    for i in artist_plays_matrix.index:\n",
    "        ratio = fuzz.ratio(i.lower(), query_artist.lower())\n",
    "        if ratio >= 75:\n",
    "            current_query_index = artist_plays_matrix.index.tolist().index(i)\n",
    "            ratio_tuples.append((i, ratio, current_query_index))\n",
    "    \n",
    "    print('Possible matches: {0}\\n'.format([(x[0], x[1]) for x in ratio_tuples]))\n",
    "    \n",
    "    try:\n",
    "        query_index = max(ratio_tuples, key = lambda x: x[1])[2] # get the index of the best artist match in the data\n",
    "    except:\n",
    "        print('Your artist didn\\'t match any artists in the data. Try again')\n",
    "        return None\n",
    "    \n",
    "    distances, indices = knn_model.kneighbors(artist_plays_matrix.iloc[query_index, :].to_numpy().reshape(1, -1), \n",
    "                                              n_neighbors = k + 1)\n",
    "\n",
    "    for i in range(0, len(distances.flatten())):\n",
    "        if i == 0:\n",
    "            print('Recommendations for {0}:\\n'.format(artist_plays_matrix.index[query_index]))\n",
    "        else:\n",
    "            print('{0}: {1}, with distance of {2}:'.format(i, \n",
    "                                                           artist_plays_matrix.index[indices.flatten()[i]], \n",
    "                                                           distances.flatten()[i]))\n",
    "\n",
    "    return None"
   ]
  },
  {
   "cell_type": "code",
   "execution_count": 185,
   "metadata": {},
   "outputs": [
    {
     "name": "stdout",
     "output_type": "stream",
     "text": [
      "Possible matches: [('red hot chili peppers', 100)]\n",
      "\n",
      "Recommendations for red hot chili peppers:\n",
      "\n",
      "1: incubus, with distance of 0.6866329121659049:\n",
      "2: the beatles, with distance of 0.6938567428877458:\n",
      "3: sublime, with distance of 0.705400375259746:\n",
      "4: foo fighters, with distance of 0.7115568685895525:\n",
      "5: coldplay, with distance of 0.7166914223483436:\n",
      "6: led zeppelin, with distance of 0.7224887876238412:\n",
      "7: nirvana, with distance of 0.7249439831689736:\n",
      "8: green day, with distance of 0.7346038131182646:\n",
      "9: radiohead, with distance of 0.7373723028024795:\n",
      "10: rage against the machine, with distance of 0.7401364919569786:\n"
     ]
    }
   ],
   "source": [
    "print_artist_recommendations('red hot chili peppers', wide_artist_data_zero_one, model_nn_binary, k = 10)"
   ]
  },
  {
   "cell_type": "code",
   "execution_count": 189,
   "metadata": {},
   "outputs": [
    {
     "name": "stdout",
     "output_type": "stream",
     "text": [
      "Possible matches: [('daddy yankee', 100)]\n",
      "\n",
      "Recommendations for daddy yankee:\n",
      "\n",
      "1: don omar, with distance of 0.6165208225306998:\n",
      "2: tito el bambino, with distance of 0.6941478544707503:\n",
      "3: aventura, with distance of 0.7354114842916597:\n",
      "4: calle 13, with distance of 0.7667567569140259:\n",
      "5: wisin & yandel, with distance of 0.778116298889297:\n",
      "6: arcangel, with distance of 0.7935301862036622:\n",
      "7: pitbull, with distance of 0.7960541464001651:\n",
      "8: camila, with distance of 0.8650264603185392:\n",
      "9: rbd, with distance of 0.8674801485751004:\n",
      "10: maná, with distance of 0.8720469612852861:\n"
     ]
    }
   ],
   "source": [
    "print_artist_recommendations('daddy yankee', wide_artist_data_zero_one, model_nn_binary, k = 10)"
   ]
  },
  {
   "cell_type": "code",
   "execution_count": null,
   "metadata": {},
   "outputs": [],
   "source": []
  }
 ],
 "metadata": {
  "kernelspec": {
   "display_name": "Python 3",
   "language": "python",
   "name": "python3"
  },
  "language_info": {
   "codemirror_mode": {
    "name": "ipython",
    "version": 3
   },
   "file_extension": ".py",
   "mimetype": "text/x-python",
   "name": "python",
   "nbconvert_exporter": "python",
   "pygments_lexer": "ipython3",
   "version": "3.7.2"
  }
 },
 "nbformat": 4,
 "nbformat_minor": 2
}
